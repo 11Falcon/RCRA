{
 "cells": [
  {
   "cell_type": "code",
   "execution_count": null,
   "metadata": {},
   "outputs": [],
   "source": [
    "%pip install ultralytics\n",
    "import ultralytics\n",
    "ultralytics.checks()"
   ]
  },
  {
   "cell_type": "code",
   "execution_count": null,
   "metadata": {},
   "outputs": [],
   "source": [
    "# Load YOLO11n, train it on COCO128 for 3 epochs and predict an image with it\n",
    "from ultralytics import YOLO\n",
    "model = YOLO('yolo11n.pt')  # load a pretrained YOLO detection model\n",
    "#model.train(data='coco8.yaml', epochs=3)  # train the model\n",
    "model('https://ultralytics.com/images/bus.jpg')  # predict on an image\n"
   ]
  },
  {
   "cell_type": "code",
   "execution_count": null,
   "metadata": {},
   "outputs": [],
   "source": [
    "import torch\n",
    "import cv2\n",
    "import numpy as np\n",
    "def detect_objects(model, image_path):\n",
    "    \"\"\"\n",
    "    Detect objects in the given image using the YOLOv8 model.\n",
    "    \"\"\"\n",
    "    # Load image\n",
    "    image = cv2.imread(image_path)\n",
    "    if image is None:\n",
    "        raise FileNotFoundError(f\"Image not found at {image_path}\")\n",
    "\n",
    "    # Perform detection\n",
    "    results = model.predict(image_path, conf=0.25)\n",
    "\n",
    "    # Parse the results to extract detected object names\n",
    "    detected_objects = []\n",
    "    for result in results:\n",
    "        for box in result.boxes:\n",
    "            class_id = int(box.cls)  # Class ID\n",
    "            class_name = model.names[class_id]  # Map class ID to name\n",
    "            detected_objects.append(class_name)\n",
    "\n",
    "    return detected_objects\n",
    "\n",
    "\n",
    "def main():\n",
    "    # Define paths\n",
    "    model_path = \"path/to/your/yolo11n.pt\"  \n",
    "    image_path = 'https://ultralytics.com/images/zidane.jpg' \n",
    "\n",
    "\n",
    "    # Detect objects\n",
    "    print(\"Detecting objects...\")\n",
    "    objects = detect_objects(model, image_path)\n",
    "\n",
    "    # Print detected objects\n",
    "    print(f\"Detected objects: {objects}\")\n",
    "\n",
    "if __name__ == \"__main__\":\n",
    "    main()"
   ]
  }
 ],
 "metadata": {
  "kernelspec": {
   "display_name": "base",
   "language": "python",
   "name": "python3"
  },
  "language_info": {
   "codemirror_mode": {
    "name": "ipython",
    "version": 3
   },
   "file_extension": ".py",
   "mimetype": "text/x-python",
   "name": "python",
   "nbconvert_exporter": "python",
   "pygments_lexer": "ipython3",
   "version": "3.9.7"
  }
 },
 "nbformat": 4,
 "nbformat_minor": 2
}
