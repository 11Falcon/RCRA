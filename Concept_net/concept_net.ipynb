{
 "cells": [
  {
   "cell_type": "markdown",
   "metadata": {},
   "source": [
    "# Concept net"
   ]
  },
  {
   "cell_type": "code",
   "execution_count": 7,
   "metadata": {},
   "outputs": [
    {
     "name": "stdout",
     "output_type": "stream",
     "text": [
      "Relationships for the word 'bottel':\n",
      "\n"
     ]
    }
   ],
   "source": [
    "import requests\n",
    "\n",
    "def get_conceptnet_relationships(term, lang=\"en\"):\n",
    "    # Query the ConceptNet API\n",
    "    url = f\"http://api.conceptnet.io/c/{lang}/{term}\"\n",
    "    response = requests.get(url).json()\n",
    "\n",
    "    # Extract edges (relationships)\n",
    "    edges = response.get('edges', [])\n",
    "    relationships = []\n",
    "    for edge in edges:\n",
    "        # Get relationship type, start, and end nodes\n",
    "        rel = edge['rel']['label']  # Relationship type\n",
    "        start = edge['start']['label']  # Start node\n",
    "        end = edge['end']['label']  # End node\n",
    "        surface_text = edge.get('surfaceText', \"No surface text provided\")\n",
    "        \n",
    "        # Append to the relationships list\n",
    "        relationships.append({\n",
    "            \"start\": start,\n",
    "            \"relationship\": rel,\n",
    "            \"end\": end,\n",
    "            \"surfaceText\": surface_text\n",
    "        })\n",
    "    \n",
    "    return relationships\n",
    "\n",
    "# Example usage\n",
    "word = \"botel\"\n",
    "relationships = get_conceptnet_relationships(word)\n",
    "\n",
    "# Print all relationships\n",
    "print(f\"Relationships for the word '{word}':\\n\")\n",
    "for rel in relationships:\n",
    "    print(f\"{rel['start']} ({rel['relationship']}) {rel['end']}\")\n",
    "    print(f\"  Surface Text: {rel['surfaceText']}\")\n",
    "    print()\n"
   ]
  },
  {
   "cell_type": "code",
   "execution_count": null,
   "metadata": {},
   "outputs": [],
   "source": []
  }
 ],
 "metadata": {
  "kernelspec": {
   "display_name": "falcon",
   "language": "python",
   "name": "python3"
  },
  "language_info": {
   "codemirror_mode": {
    "name": "ipython",
    "version": 3
   },
   "file_extension": ".py",
   "mimetype": "text/x-python",
   "name": "python",
   "nbconvert_exporter": "python",
   "pygments_lexer": "ipython3",
   "version": "3.9.17"
  }
 },
 "nbformat": 4,
 "nbformat_minor": 2
}
